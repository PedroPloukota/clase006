{
  "cells": [
    {
      "cell_type": "markdown",
      "metadata": {
        "id": "jzQg_mJztyW2"
      },
      "source": [
        "[![Open In Colab](https://colab.research.google.com/assets/colab-badge.svg)](https://colab.research.google.com/github/sensioai/blog/blob/master/007_numpy/numpy.ipynb)"
      ]
    },
    {
      "cell_type": "markdown",
      "metadata": {
        "id": "K6VN3SnntyW4"
      },
      "source": [
        "# NumPy"
      ]
    },
    {
      "cell_type": "markdown",
      "metadata": {
        "id": "HNZ2sYaqtyW5"
      },
      "source": [
        "`NumPy` (*Numerical Python*) es uno de los `módulos` más importantes y, probablemente, el más utilizado en el campo del cálculo numérico en el ecosistema de `Python`. En posts anteriores hemos visto como utilizar diferentes estructuras de datos en `Python` y otros `módulos` que nos ofrecen funciones matemáticas, cómo el módulo `math`. `NumPy` extiende esta funcionalidad en el campo del cálculo numérico de la siguiente manera:\n",
        "\n",
        "- Ofrece el objeto `ndarray`, similar a una lista de `Python` pero optimizada para el cálculo numérico. Nos referiremos a este objeto como `array` de `NumPy`, o simplemente `array`.\n",
        "- Implementa funciones matemáticas que pueden trabajar directamente sobre `arrays` sin tener que implementar bucles.\n",
        "- Proporciona funciones para leer/escribir datos a archivos de manera optimizada.\n",
        "- Permite aplicaciones de álgebra lineal, generación de números aleatorios y transformadas de Fourier.\n",
        "\n",
        "El núcleo de `Numpy` está implementado en C, ofreciendo *bindings* en `Python` para interactuar con él. Esto se traduce en que `NumPy` es más rápido que el equivalente en puro `Python`. Muchas otras librerías para el análisis de datos están construidas sobre `NumPy`, utilizando los `ndarrays` como la estructura de datos básica debido a su eficiencia. Para ilustrar esta propiedad vamos a calcular el tiempo necesario para llevar a cabo la misma operación en puro `Python` en comparación con `arrays` de `NumPy`."
      ]
    },
    {
      "cell_type": "code",
      "execution_count": 1,
      "metadata": {
        "ExecuteTime": {
          "end_time": "2020-06-08T10:12:47.191796Z",
          "start_time": "2020-06-08T10:12:45.890131Z"
        },
        "colab": {
          "base_uri": "https://localhost:8080/"
        },
        "id": "wF9sNRBztyW5",
        "outputId": "0ce588ba-6059-44c7-b3a3-f6919d2afadb"
      },
      "outputs": [
        {
          "output_type": "stream",
          "name": "stdout",
          "text": [
            "CPU times: user 748 ms, sys: 326 ms, total: 1.07 s\n",
            "Wall time: 1.23 s\n"
          ]
        }
      ],
      "source": [
        "l = [i for i in range(10000000)]\n",
        "\n",
        "%time l2 = [2*i for i in l]"
      ]
    },
    {
      "cell_type": "code",
      "execution_count": null,
      "metadata": {
        "ExecuteTime": {
          "end_time": "2020-06-08T10:12:49.800556Z",
          "start_time": "2020-06-08T10:12:49.300612Z"
        },
        "id": "QW0OPlqDtyW6",
        "outputId": "4afdb268-1081-4e9a-fca3-bebaef9f9091"
      },
      "outputs": [
        {
          "name": "stdout",
          "output_type": "stream",
          "text": [
            "Wall time: 13.1 ms\n"
          ]
        }
      ],
      "source": [
        "import numpy as np\n",
        "\n",
        "a = np.array(l)\n",
        "\n",
        "%time a2 = 2*a"
      ]
    },
    {
      "cell_type": "markdown",
      "metadata": {
        "id": "_A_IIKcVtyW7"
      },
      "source": [
        "Podemos ver que `Numpy` es 50 veces más rápido que `Python` llevando a cabo la misma operación. No te preocupes por el resto de detalles, en las siguientes secciones aprenderás lo necesario para crear `arrays`, hacer operaciones, etc. Lo más importante es destacar que en `Python` necesitamos iterar por cada valor en la lista aplicando la operación en concreto (lo cual es lento) mientras que en `NumPy` podemos simplemente aplicar la operación al `array` entero confiando en la implementación para llevar a cabo la operación de la manera más eficiente posible."
      ]
    },
    {
      "cell_type": "markdown",
      "metadata": {
        "id": "YigWVKbptyW7"
      },
      "source": [
        "> ⚠️ `NumPy` es un `módulo` externo a `Python`. Para poder usarlo primero hay que instalarlo. Puedes hacerlo abriendo un terminal y escribiendo `conda install numpy` si instalaste `Python` usando `conda`. Alternativamente, puedes hacerlo con `pip install numpy`. Si necesitas ayuda en este paso te recomiendo leer el [post](https://sensioai.com/blog/001_python) en el que instalamos `Python` y vimos como instalar librerías."
      ]
    },
    {
      "cell_type": "markdown",
      "metadata": {
        "heading_collapsed": true,
        "id": "4j0Nfc4jtyW8"
      },
      "source": [
        "## El objeto `ndarray`"
      ]
    },
    {
      "cell_type": "markdown",
      "metadata": {
        "hidden": true,
        "id": "xM421KnOtyW8"
      },
      "source": [
        "Como hemos comentado en la sección anterior, `NumPy` está basado en el objeto `ndarray`. Puedes ver este objeto como una lista de `Python` con súperpoderes. El objeto `ndarray` es multidimensional, lo que implica que nos permite representar tanto valores escalares como vectores, matrices y matrices multidimensionales (lo que llamamos `tensores`). \n",
        "\n",
        "Para poder trabajar con `NumPy`, primero tenemos que importarlo. Es común importarlo con el nombre `np`."
      ]
    },
    {
      "cell_type": "code",
      "execution_count": 3,
      "metadata": {
        "ExecuteTime": {
          "end_time": "2020-06-08T10:25:18.123136Z",
          "start_time": "2020-06-08T10:25:18.111137Z"
        },
        "hidden": true,
        "id": "qHdSb5FctyW8"
      },
      "outputs": [],
      "source": [
        "import numpy as np"
      ]
    },
    {
      "cell_type": "markdown",
      "metadata": {
        "hidden": true,
        "id": "j-j1tMbrtyW9"
      },
      "source": [
        "Tenemos varias maneras de crear un `array`. Una de ellas es utilizar funciones implementadas en `NumPy` para la creación de `arrays`, indicando el número de elementos en cada dimensión."
      ]
    },
    {
      "cell_type": "code",
      "execution_count": 4,
      "metadata": {
        "ExecuteTime": {
          "end_time": "2020-06-08T10:27:25.094898Z",
          "start_time": "2020-06-08T10:27:25.079360Z"
        },
        "hidden": true,
        "colab": {
          "base_uri": "https://localhost:8080/"
        },
        "id": "LLgS6r4GtyW9",
        "outputId": "e11013ff-ea7d-4f88-8355-496359867bfc"
      },
      "outputs": [
        {
          "output_type": "execute_result",
          "data": {
            "text/plain": [
              "array([0., 0., 0., 0., 0.])"
            ]
          },
          "metadata": {},
          "execution_count": 4
        }
      ],
      "source": [
        "# crear un vector de ceros\n",
        "\n",
        "np.zeros(5)"
      ]
    },
    {
      "cell_type": "code",
      "execution_count": 5,
      "metadata": {
        "ExecuteTime": {
          "end_time": "2020-06-08T10:27:55.920246Z",
          "start_time": "2020-06-08T10:27:55.915429Z"
        },
        "hidden": true,
        "colab": {
          "base_uri": "https://localhost:8080/"
        },
        "id": "L1dS29u-tyW9",
        "outputId": "19d02f56-eb71-4524-97d3-967f119448f6"
      },
      "outputs": [
        {
          "output_type": "execute_result",
          "data": {
            "text/plain": [
              "array([[0., 0., 0., 0.],\n",
              "       [0., 0., 0., 0.],\n",
              "       [0., 0., 0., 0.]])"
            ]
          },
          "metadata": {},
          "execution_count": 5
        }
      ],
      "source": [
        "# crear una matriz de ceros\n",
        "\n",
        "np.zeros((3, 4))"
      ]
    },
    {
      "cell_type": "markdown",
      "metadata": {
        "hidden": true,
        "id": "u1Aw2oN_tyW-"
      },
      "source": [
        "De la misma manera podemos crear `arrays` de 1s, con un valor determinado o sin inicializar con las funciones `np.one()`, `np.full()` o `np.empty()` respectivamente. Estas son algunas de las propiedades de un `array`."
      ]
    },
    {
      "cell_type": "code",
      "execution_count": 6,
      "metadata": {
        "ExecuteTime": {
          "end_time": "2020-06-08T10:36:13.648407Z",
          "start_time": "2020-06-08T10:36:13.643351Z"
        },
        "hidden": true,
        "colab": {
          "base_uri": "https://localhost:8080/"
        },
        "id": "ujg8BSbWtyW-",
        "outputId": "12b5fa4f-38e8-4fd7-cf35-230c5eabf6f8"
      },
      "outputs": [
        {
          "output_type": "execute_result",
          "data": {
            "text/plain": [
              "array([[[1., 1.],\n",
              "        [1., 1.],\n",
              "        [1., 1.],\n",
              "        [1., 1.]],\n",
              "\n",
              "       [[1., 1.],\n",
              "        [1., 1.],\n",
              "        [1., 1.],\n",
              "        [1., 1.]],\n",
              "\n",
              "       [[1., 1.],\n",
              "        [1., 1.],\n",
              "        [1., 1.],\n",
              "        [1., 1.]]])"
            ]
          },
          "metadata": {},
          "execution_count": 6
        }
      ],
      "source": [
        "# tensor de unos\n",
        "\n",
        "a = np.ones((3, 4, 2))\n",
        "\n",
        "a"
      ]
    },
    {
      "cell_type": "code",
      "execution_count": 7,
      "metadata": {
        "ExecuteTime": {
          "end_time": "2020-06-08T10:36:16.096730Z",
          "start_time": "2020-06-08T10:36:16.091731Z"
        },
        "hidden": true,
        "colab": {
          "base_uri": "https://localhost:8080/"
        },
        "id": "BKwErwMetyW-",
        "outputId": "8e5a8463-11d4-4038-e975-6b646cd5b661"
      },
      "outputs": [
        {
          "output_type": "execute_result",
          "data": {
            "text/plain": [
              "(3, 4, 2)"
            ]
          },
          "metadata": {},
          "execution_count": 7
        }
      ],
      "source": [
        "# numero elementos en cada dimension\n",
        "\n",
        "a.shape"
      ]
    },
    {
      "cell_type": "code",
      "execution_count": 8,
      "metadata": {
        "ExecuteTime": {
          "end_time": "2020-06-08T10:36:16.222194Z",
          "start_time": "2020-06-08T10:36:16.219194Z"
        },
        "hidden": true,
        "colab": {
          "base_uri": "https://localhost:8080/"
        },
        "id": "p-3txc4ntyW-",
        "outputId": "c8b6322a-2a72-414e-eb73-a1fb705d66d8"
      },
      "outputs": [
        {
          "output_type": "execute_result",
          "data": {
            "text/plain": [
              "3"
            ]
          },
          "metadata": {},
          "execution_count": 8
        }
      ],
      "source": [
        "# longitud del array\n",
        "\n",
        "a.ndim"
      ]
    },
    {
      "cell_type": "code",
      "execution_count": 9,
      "metadata": {
        "ExecuteTime": {
          "end_time": "2020-06-08T10:36:16.346804Z",
          "start_time": "2020-06-08T10:36:16.342802Z"
        },
        "hidden": true,
        "colab": {
          "base_uri": "https://localhost:8080/"
        },
        "id": "8yIiTzlItyW-",
        "outputId": "3a4361d9-7979-4109-f34f-e2add23fe630"
      },
      "outputs": [
        {
          "output_type": "execute_result",
          "data": {
            "text/plain": [
              "24"
            ]
          },
          "metadata": {},
          "execution_count": 9
        }
      ],
      "source": [
        "# elementos totales en el array\n",
        "\n",
        "a.size"
      ]
    },
    {
      "cell_type": "markdown",
      "metadata": {
        "hidden": true,
        "id": "JfWZXanktyW_"
      },
      "source": [
        "Otra manera muy común de inicializar `arrays` de `Numpy` es mediante listas de `Python`. Para ello usamos la función `np.array()`."
      ]
    },
    {
      "cell_type": "code",
      "execution_count": 10,
      "metadata": {
        "ExecuteTime": {
          "end_time": "2020-06-08T10:37:14.766093Z",
          "start_time": "2020-06-08T10:37:14.758585Z"
        },
        "hidden": true,
        "colab": {
          "base_uri": "https://localhost:8080/"
        },
        "id": "UGeMVzKCtyW_",
        "outputId": "3e20a017-5e0d-4343-ef32-f31e328c70cd"
      },
      "outputs": [
        {
          "output_type": "execute_result",
          "data": {
            "text/plain": [
              "array([[1, 2, 3],\n",
              "       [4, 5, 6]])"
            ]
          },
          "metadata": {},
          "execution_count": 10
        }
      ],
      "source": [
        "np.array([[1, 2, 3],[4, 5, 6]])"
      ]
    },
    {
      "cell_type": "markdown",
      "metadata": {
        "hidden": true,
        "id": "nSI7x5LYtyW_"
      },
      "source": [
        "Por último, también podemos crear `arrays` mediante funciones secuenciales o con valores aleatorios de la siguiente manera."
      ]
    },
    {
      "cell_type": "code",
      "execution_count": 11,
      "metadata": {
        "ExecuteTime": {
          "end_time": "2020-06-08T10:40:27.594680Z",
          "start_time": "2020-06-08T10:40:27.578868Z"
        },
        "hidden": true,
        "colab": {
          "base_uri": "https://localhost:8080/"
        },
        "id": "8FjgkTK8tyW_",
        "outputId": "b14748d0-9e53-442e-b0ba-59fea65b49da"
      },
      "outputs": [
        {
          "output_type": "execute_result",
          "data": {
            "text/plain": [
              "array([1, 2, 3, 4])"
            ]
          },
          "metadata": {},
          "execution_count": 11
        }
      ],
      "source": [
        "# vector de `int` en rango\n",
        "\n",
        "np.arange(1, 5)"
      ]
    },
    {
      "cell_type": "code",
      "execution_count": 12,
      "metadata": {
        "ExecuteTime": {
          "end_time": "2020-06-08T10:41:50.084272Z",
          "start_time": "2020-06-08T10:41:50.072416Z"
        },
        "hidden": true,
        "colab": {
          "base_uri": "https://localhost:8080/"
        },
        "id": "akhRaQ87tyXA",
        "outputId": "aea964e9-8a85-4330-c714-f6a8db2e05ad"
      },
      "outputs": [
        {
          "output_type": "execute_result",
          "data": {
            "text/plain": [
              "array([0.        , 0.11111111, 0.22222222, 0.33333333, 0.44444444,\n",
              "       0.55555556, 0.66666667, 0.77777778, 0.88888889, 1.        ])"
            ]
          },
          "metadata": {},
          "execution_count": 12
        }
      ],
      "source": [
        "# vector de `float` en rango\n",
        "\n",
        "np.linspace(0, 1, 10)"
      ]
    },
    {
      "cell_type": "code",
      "execution_count": 13,
      "metadata": {
        "ExecuteTime": {
          "end_time": "2020-06-08T10:42:23.378901Z",
          "start_time": "2020-06-08T10:42:23.370882Z"
        },
        "hidden": true,
        "colab": {
          "base_uri": "https://localhost:8080/"
        },
        "id": "pnzwT51StyXA",
        "outputId": "3271eea0-8ef7-45bc-bd50-f2eea1051de7"
      },
      "outputs": [
        {
          "output_type": "execute_result",
          "data": {
            "text/plain": [
              "array([[0.45751915, 0.53773451, 0.01148123, 0.70332919],\n",
              "       [0.94515522, 0.11098216, 0.78532333, 0.7320335 ],\n",
              "       [0.68732107, 0.20060089, 0.292923  , 0.045075  ]])"
            ]
          },
          "metadata": {},
          "execution_count": 13
        }
      ],
      "source": [
        "# matriz de números aleatorios\n",
        "\n",
        "np.random.rand(3,4)"
      ]
    },
    {
      "cell_type": "markdown",
      "metadata": {
        "heading_collapsed": true,
        "hidden": true,
        "id": "5DezyN1ttyXA"
      },
      "source": [
        "### Tipos de datos"
      ]
    },
    {
      "cell_type": "markdown",
      "metadata": {
        "hidden": true,
        "id": "pOxjw2zptyXA"
      },
      "source": [
        "Un motivo por el que los `arrays` de `NumPy` son tan eficientes es que todos los elementos en el `array` deben tener el mismo tipo."
      ]
    },
    {
      "cell_type": "code",
      "execution_count": 14,
      "metadata": {
        "ExecuteTime": {
          "end_time": "2020-06-08T10:46:03.238251Z",
          "start_time": "2020-06-08T10:46:03.220251Z"
        },
        "hidden": true,
        "colab": {
          "base_uri": "https://localhost:8080/"
        },
        "id": "V_D82ZWotyXA",
        "outputId": "7ede5c7e-562f-4244-9dbf-dd47deba3333"
      },
      "outputs": [
        {
          "output_type": "execute_result",
          "data": {
            "text/plain": [
              "array([1, 2, 3, 4])"
            ]
          },
          "metadata": {},
          "execution_count": 14
        }
      ],
      "source": [
        "a = np.arange(1, 5)\n",
        "a"
      ]
    },
    {
      "cell_type": "code",
      "execution_count": 15,
      "metadata": {
        "ExecuteTime": {
          "end_time": "2020-06-08T10:46:14.177215Z",
          "start_time": "2020-06-08T10:46:14.159207Z"
        },
        "hidden": true,
        "colab": {
          "base_uri": "https://localhost:8080/"
        },
        "id": "mx6TM4qptyXA",
        "outputId": "2169ff28-0900-4737-cd5c-6de4cd18f9d6"
      },
      "outputs": [
        {
          "output_type": "execute_result",
          "data": {
            "text/plain": [
              "dtype('int64')"
            ]
          },
          "metadata": {},
          "execution_count": 15
        }
      ],
      "source": [
        "# acceder al tipo de datos\n",
        "\n",
        "a.dtype"
      ]
    },
    {
      "cell_type": "markdown",
      "metadata": {
        "hidden": true,
        "id": "HdJHkyXStyXB"
      },
      "source": [
        "Podemos indicarle a `NumPy` el tipo de dato con el que queremos trabajar al crear nuestro `array`."
      ]
    },
    {
      "cell_type": "code",
      "execution_count": 16,
      "metadata": {
        "ExecuteTime": {
          "end_time": "2020-06-08T10:47:05.629406Z",
          "start_time": "2020-06-08T10:47:05.615412Z"
        },
        "hidden": true,
        "colab": {
          "base_uri": "https://localhost:8080/"
        },
        "id": "WuVGBk9ZtyXB",
        "outputId": "60c7f98f-2d27-45af-e639-e93145d990c3"
      },
      "outputs": [
        {
          "output_type": "execute_result",
          "data": {
            "text/plain": [
              "array([1, 2, 3, 4], dtype=uint8)"
            ]
          },
          "metadata": {},
          "execution_count": 16
        }
      ],
      "source": [
        "a = np.arange(1, 5, dtype=np.uint8)\n",
        "a"
      ]
    },
    {
      "cell_type": "markdown",
      "metadata": {
        "hidden": true,
        "id": "s-dHtEqQtyXB"
      },
      "source": [
        "Los tipos disponibles son `int8`, `int16`, `int32`, `int64`, `uint8`|`16`|`32`|`64`, `float16`|`32`|`64` y `complex64`|`128`. Puedes encontrar una lista completa en la [documentación](http://docs.scipy.org/doc/numpy-1.10.1/user/basics.types.html).\n"
      ]
    },
    {
      "cell_type": "markdown",
      "metadata": {
        "heading_collapsed": true,
        "hidden": true,
        "id": "dxybapO7tyXB"
      },
      "source": [
        "### Cambiando la forma"
      ]
    },
    {
      "cell_type": "markdown",
      "metadata": {
        "hidden": true,
        "id": "TxXFAZ0dtyXB"
      },
      "source": [
        "Es muy común cambiar la forma de un `array` para acomodarlo a ciertas operaciones."
      ]
    },
    {
      "cell_type": "code",
      "execution_count": 17,
      "metadata": {
        "ExecuteTime": {
          "end_time": "2020-06-08T10:50:02.114394Z",
          "start_time": "2020-06-08T10:50:02.103593Z"
        },
        "hidden": true,
        "colab": {
          "base_uri": "https://localhost:8080/"
        },
        "id": "0WPt7Xi5tyXB",
        "outputId": "8e116c9f-88a3-4743-f799-9b40e20f4079"
      },
      "outputs": [
        {
          "output_type": "execute_result",
          "data": {
            "text/plain": [
              "array([0, 1, 2, 3, 4, 5, 6, 7, 8, 9])"
            ]
          },
          "metadata": {},
          "execution_count": 17
        }
      ],
      "source": [
        "# vector\n",
        "\n",
        "a = np.arange(10)\n",
        "a"
      ]
    },
    {
      "cell_type": "code",
      "execution_count": 18,
      "metadata": {
        "ExecuteTime": {
          "end_time": "2020-06-08T10:50:11.551539Z",
          "start_time": "2020-06-08T10:50:11.542531Z"
        },
        "hidden": true,
        "colab": {
          "base_uri": "https://localhost:8080/"
        },
        "id": "0zp4nVL4tyXB",
        "outputId": "5745b377-66ee-4ca4-ee3b-1403a0fe2147"
      },
      "outputs": [
        {
          "output_type": "execute_result",
          "data": {
            "text/plain": [
              "array([[0, 1, 2, 3, 4],\n",
              "       [5, 6, 7, 8, 9]])"
            ]
          },
          "metadata": {},
          "execution_count": 18
        }
      ],
      "source": [
        "# convertir vector en matriz\n",
        "\n",
        "a2 = a.reshape(2,5)\n",
        "a2"
      ]
    },
    {
      "cell_type": "markdown",
      "metadata": {
        "hidden": true,
        "id": "vKJBP0BetyXB"
      },
      "source": [
        "Obviamente, para poder cambiar la forma del `array` el número de elementos tiene que encajar en el número de nuevas dimensiones."
      ]
    },
    {
      "cell_type": "code",
      "execution_count": 20,
      "metadata": {
        "ExecuteTime": {
          "end_time": "2020-06-08T10:51:00.683320Z",
          "start_time": "2020-06-08T10:51:00.664320Z"
        },
        "hidden": true,
        "colab": {
          "base_uri": "https://localhost:8080/"
        },
        "id": "S-PdWRdltyXC",
        "outputId": "604d9195-6067-4f99-a706-9e30840cba1f"
      },
      "outputs": [
        {
          "output_type": "execute_result",
          "data": {
            "text/plain": [
              "array([[0, 1, 2, 3, 4],\n",
              "       [5, 6, 7, 8, 9]])"
            ]
          },
          "metadata": {},
          "execution_count": 20
        }
      ],
      "source": [
        "a.reshape(2,5)"
      ]
    },
    {
      "cell_type": "code",
      "execution_count": 21,
      "metadata": {
        "ExecuteTime": {
          "end_time": "2020-06-08T10:51:27.559648Z",
          "start_time": "2020-06-08T10:51:27.549648Z"
        },
        "hidden": true,
        "colab": {
          "base_uri": "https://localhost:8080/"
        },
        "id": "9KQZHBBKtyXC",
        "outputId": "14dc7398-cfe1-41bf-9ef2-789bb24890be"
      },
      "outputs": [
        {
          "output_type": "execute_result",
          "data": {
            "text/plain": [
              "array([0, 1, 2, 3, 4, 5, 6, 7, 8, 9])"
            ]
          },
          "metadata": {},
          "execution_count": 21
        }
      ],
      "source": [
        "# convertir en vector\n",
        "\n",
        "a2.ravel()"
      ]
    },
    {
      "cell_type": "markdown",
      "metadata": {
        "id": "6uH-lE0ityXC"
      },
      "source": [
        "## Operaciones aritméticas"
      ]
    },
    {
      "cell_type": "markdown",
      "metadata": {
        "id": "wFGBaC1ytyXC"
      },
      "source": [
        "Una de las aplicaciones en las que los `arrays` de `NumPy` brillan es en la facilidad de usar operaciones artiméticas de manera optimizada y sin tener que implementar bucles como hacemos en `Python`. Esta propiedad se conoce como `vectorización`, algo de lo que hablaremos en más detalle en un futuro post. Podemos usar los operadores que ya conocemos de `Python` directamente con nuestros `arrays`."
      ]
    },
    {
      "cell_type": "code",
      "execution_count": 22,
      "metadata": {
        "ExecuteTime": {
          "end_time": "2020-06-08T10:56:47.417495Z",
          "start_time": "2020-06-08T10:56:47.407672Z"
        },
        "colab": {
          "base_uri": "https://localhost:8080/"
        },
        "id": "4ol15jANtyXC",
        "outputId": "bdc4e925-2b3b-4385-97a8-cc08c20dc8a1"
      },
      "outputs": [
        {
          "output_type": "execute_result",
          "data": {
            "text/plain": [
              "array([19, 27, 35, 43])"
            ]
          },
          "metadata": {},
          "execution_count": 22
        }
      ],
      "source": [
        "a = np.array([14, 23, 32, 41])\n",
        "b = np.array([5,  4,  3,  2])\n",
        "\n",
        "a + b"
      ]
    },
    {
      "cell_type": "code",
      "execution_count": 23,
      "metadata": {
        "ExecuteTime": {
          "end_time": "2020-06-08T10:56:47.808265Z",
          "start_time": "2020-06-08T10:56:47.795263Z"
        },
        "colab": {
          "base_uri": "https://localhost:8080/"
        },
        "id": "uTzxstFMtyXC",
        "outputId": "0eda88a1-10ac-4828-9a4a-6faf1d0bcfb3"
      },
      "outputs": [
        {
          "output_type": "execute_result",
          "data": {
            "text/plain": [
              "array([ 9, 19, 29, 39])"
            ]
          },
          "metadata": {},
          "execution_count": 23
        }
      ],
      "source": [
        "a - b"
      ]
    },
    {
      "cell_type": "code",
      "execution_count": 24,
      "metadata": {
        "ExecuteTime": {
          "end_time": "2020-06-08T10:56:47.933546Z",
          "start_time": "2020-06-08T10:56:47.918546Z"
        },
        "colab": {
          "base_uri": "https://localhost:8080/"
        },
        "id": "vzvChlG_tyXC",
        "outputId": "3590f96e-b383-4cdc-f4c2-ca8fcd0b5356"
      },
      "outputs": [
        {
          "output_type": "execute_result",
          "data": {
            "text/plain": [
              "array([70, 92, 96, 82])"
            ]
          },
          "metadata": {},
          "execution_count": 24
        }
      ],
      "source": [
        "a*b"
      ]
    },
    {
      "cell_type": "code",
      "execution_count": 25,
      "metadata": {
        "ExecuteTime": {
          "end_time": "2020-06-08T10:56:48.075425Z",
          "start_time": "2020-06-08T10:56:48.059421Z"
        },
        "colab": {
          "base_uri": "https://localhost:8080/"
        },
        "id": "DvT2Iwu7tyXC",
        "outputId": "967639cb-b05e-4e68-9a2c-7615c6f084f9"
      },
      "outputs": [
        {
          "output_type": "execute_result",
          "data": {
            "text/plain": [
              "array([ 2.8       ,  5.75      , 10.66666667, 20.5       ])"
            ]
          },
          "metadata": {},
          "execution_count": 25
        }
      ],
      "source": [
        "a / b"
      ]
    },
    {
      "cell_type": "markdown",
      "metadata": {
        "id": "-Sv8HQXDtyXC"
      },
      "source": [
        "> ⚠️ Estas operaciones son *elementwise*, se aplican elemento a elemento. Para llevar a cabo otras operaciones como por ejemplo el producto escalar de dos vectores usaremos las funciones apropiadas que veremos en un futuro post."
      ]
    },
    {
      "cell_type": "markdown",
      "metadata": {
        "id": "6-GWWZeptyXD"
      },
      "source": [
        "Podremos aplicar estas operaciones siempre que las dimensiones de los `arrays` coincidan. De no ser así, es posible que `NumPy` siga dándonos resultados. Esto es debido a una propiedad conocida como *broadcasting*, algo que veremos en más detalle en un próximo post."
      ]
    },
    {
      "cell_type": "markdown",
      "metadata": {
        "id": "3q3TSi4LtyXD"
      },
      "source": [
        "## Indexado y Troceado"
      ]
    },
    {
      "cell_type": "markdown",
      "metadata": {
        "id": "EikjABngtyXD"
      },
      "source": [
        "`NumPy` adopta la misma lógica de indexado y troceado que `Python`, algo que ya conocemos y que puedes refrescar en este [post](https://sensioai.com/blog/003_python_estructuras)."
      ]
    },
    {
      "cell_type": "code",
      "execution_count": 26,
      "metadata": {
        "ExecuteTime": {
          "end_time": "2020-06-08T11:02:38.095202Z",
          "start_time": "2020-06-08T11:02:38.085469Z"
        },
        "colab": {
          "base_uri": "https://localhost:8080/"
        },
        "id": "i9WI7YIOtyXD",
        "outputId": "2ae253ff-1b26-446d-a3b9-0a01242ebe2f"
      },
      "outputs": [
        {
          "output_type": "execute_result",
          "data": {
            "text/plain": [
              "array([ 1,  5,  3, 19, 13,  7,  3])"
            ]
          },
          "metadata": {},
          "execution_count": 26
        }
      ],
      "source": [
        "a = np.array([1, 5, 3, 19, 13, 7, 3])\n",
        "a"
      ]
    },
    {
      "cell_type": "code",
      "execution_count": 27,
      "metadata": {
        "ExecuteTime": {
          "end_time": "2020-06-08T11:02:52.462563Z",
          "start_time": "2020-06-08T11:02:52.446541Z"
        },
        "colab": {
          "base_uri": "https://localhost:8080/"
        },
        "id": "svUuIR10tyXD",
        "outputId": "c3e260aa-23ec-4dc7-8ea7-7fb981b6bf45"
      },
      "outputs": [
        {
          "output_type": "execute_result",
          "data": {
            "text/plain": [
              "19"
            ]
          },
          "metadata": {},
          "execution_count": 27
        }
      ],
      "source": [
        "# acceder a un valor por su índice\n",
        "\n",
        "a[3]"
      ]
    },
    {
      "cell_type": "markdown",
      "metadata": {
        "id": "ppUddnsgtyXD"
      },
      "source": [
        "> ⚠️ Igual que en `Python` el primer valor de un `array` tiene el índice 0."
      ]
    },
    {
      "cell_type": "code",
      "execution_count": 28,
      "metadata": {
        "ExecuteTime": {
          "end_time": "2020-06-08T11:03:37.703152Z",
          "start_time": "2020-06-08T11:03:37.689614Z"
        },
        "colab": {
          "base_uri": "https://localhost:8080/"
        },
        "id": "NKUjSmRttyXE",
        "outputId": "e624d0d5-52b6-429d-b3da-4910a8daac15"
      },
      "outputs": [
        {
          "output_type": "execute_result",
          "data": {
            "text/plain": [
              "array([ 3, 19, 13])"
            ]
          },
          "metadata": {},
          "execution_count": 28
        }
      ],
      "source": [
        "# troceado\n",
        "\n",
        "a[2:5]"
      ]
    },
    {
      "cell_type": "code",
      "execution_count": 29,
      "metadata": {
        "ExecuteTime": {
          "end_time": "2020-06-08T11:04:08.853368Z",
          "start_time": "2020-06-08T11:04:08.842346Z"
        },
        "colab": {
          "base_uri": "https://localhost:8080/"
        },
        "id": "uYgteWXQtyXF",
        "outputId": "d65886c5-d2b5-47b9-bd8c-217ab8536b09"
      },
      "outputs": [
        {
          "output_type": "execute_result",
          "data": {
            "text/plain": [
              "array([ 3, 19, 13,  7])"
            ]
          },
          "metadata": {},
          "execution_count": 29
        }
      ],
      "source": [
        "# usamos índices negativos para indexar desde el final\n",
        "\n",
        "a[2:-1]"
      ]
    },
    {
      "cell_type": "markdown",
      "metadata": {
        "id": "Y6MH8KUxtyXF"
      },
      "source": [
        "Podemos indexar `arrys` multidimensionales con diferentes índices para cada dimensión, separados por comas."
      ]
    },
    {
      "cell_type": "code",
      "execution_count": 30,
      "metadata": {
        "ExecuteTime": {
          "end_time": "2020-06-08T11:05:53.806117Z",
          "start_time": "2020-06-08T11:05:53.790039Z"
        },
        "colab": {
          "base_uri": "https://localhost:8080/"
        },
        "id": "3rTB1FkUtyXF",
        "outputId": "f264e957-1537-478d-de2c-7a8a4b888904"
      },
      "outputs": [
        {
          "output_type": "execute_result",
          "data": {
            "text/plain": [
              "array([[ 0,  1,  2,  3,  4,  5,  6,  7,  8,  9, 10, 11],\n",
              "       [12, 13, 14, 15, 16, 17, 18, 19, 20, 21, 22, 23],\n",
              "       [24, 25, 26, 27, 28, 29, 30, 31, 32, 33, 34, 35],\n",
              "       [36, 37, 38, 39, 40, 41, 42, 43, 44, 45, 46, 47]])"
            ]
          },
          "metadata": {},
          "execution_count": 30
        }
      ],
      "source": [
        "b = np.arange(48).reshape(4, 12)\n",
        "b"
      ]
    },
    {
      "cell_type": "code",
      "execution_count": 31,
      "metadata": {
        "ExecuteTime": {
          "end_time": "2020-06-08T11:06:57.887556Z",
          "start_time": "2020-06-08T11:06:57.873557Z"
        },
        "colab": {
          "base_uri": "https://localhost:8080/"
        },
        "id": "BrHMhhgwtyXF",
        "outputId": "b7af5692-f38b-40f3-b465-502e829a3196"
      },
      "outputs": [
        {
          "output_type": "execute_result",
          "data": {
            "text/plain": [
              "14"
            ]
          },
          "metadata": {},
          "execution_count": 31
        }
      ],
      "source": [
        "# valor en segunda fila, tercera columna\n",
        "\n",
        "b[1, 2]"
      ]
    },
    {
      "cell_type": "code",
      "execution_count": 32,
      "metadata": {
        "ExecuteTime": {
          "end_time": "2020-06-08T11:06:58.013555Z",
          "start_time": "2020-06-08T11:06:57.995558Z"
        },
        "colab": {
          "base_uri": "https://localhost:8080/"
        },
        "id": "Y1KC278BtyXF",
        "outputId": "3b977d42-86b8-41d0-ee64-f331a02d9b24"
      },
      "outputs": [
        {
          "output_type": "execute_result",
          "data": {
            "text/plain": [
              "array([12, 13, 14, 15, 16, 17, 18, 19, 20, 21, 22, 23])"
            ]
          },
          "metadata": {},
          "execution_count": 32
        }
      ],
      "source": [
        "# segunda fila\n",
        "\n",
        "b[1, :] "
      ]
    },
    {
      "cell_type": "code",
      "execution_count": 33,
      "metadata": {
        "ExecuteTime": {
          "end_time": "2020-06-08T11:07:12.146700Z",
          "start_time": "2020-06-08T11:07:12.135701Z"
        },
        "colab": {
          "base_uri": "https://localhost:8080/"
        },
        "id": "9rmJqINctyXF",
        "outputId": "d53c5858-5cdd-4ba5-d5aa-a0f113993766"
      },
      "outputs": [
        {
          "output_type": "execute_result",
          "data": {
            "text/plain": [
              "array([11, 23, 35, 47])"
            ]
          },
          "metadata": {},
          "execution_count": 33
        }
      ],
      "source": [
        "# última columna\n",
        "\n",
        "b[:, -1]"
      ]
    },
    {
      "cell_type": "markdown",
      "metadata": {
        "id": "j7cnK5yNtyXF"
      },
      "source": [
        "### Indexado *fancy*"
      ]
    },
    {
      "cell_type": "markdown",
      "metadata": {
        "id": "Up_KwaEjtyXF"
      },
      "source": [
        "El indexado *fancy* nos permite indexar un `array` mediante una lista con los índices de interés."
      ]
    },
    {
      "cell_type": "code",
      "execution_count": 34,
      "metadata": {
        "ExecuteTime": {
          "end_time": "2020-06-08T11:10:07.527162Z",
          "start_time": "2020-06-08T11:10:07.507168Z"
        },
        "colab": {
          "base_uri": "https://localhost:8080/"
        },
        "id": "-ZAcnIeYtyXG",
        "outputId": "1c063e86-9aa2-43e5-a128-2537d619eb80"
      },
      "outputs": [
        {
          "output_type": "execute_result",
          "data": {
            "text/plain": [
              "array([[ 2,  3],\n",
              "       [26, 27]])"
            ]
          },
          "metadata": {},
          "execution_count": 34
        }
      ],
      "source": [
        "# primera y tercera fila, desde la tercera columna a la cuarta\n",
        "\n",
        "b[(0,2),2:4]"
      ]
    },
    {
      "cell_type": "markdown",
      "metadata": {
        "id": "TYZoPXZytyXG"
      },
      "source": [
        "### Indexado booleano"
      ]
    },
    {
      "cell_type": "markdown",
      "metadata": {
        "ExecuteTime": {
          "end_time": "2020-06-08T11:11:11.523806Z",
          "start_time": "2020-06-08T11:11:11.506776Z"
        },
        "id": "5tVUjJ8ftyXG"
      },
      "source": [
        "El indexado booleano es muy útil para trabajar con máscaras."
      ]
    },
    {
      "cell_type": "code",
      "execution_count": 35,
      "metadata": {
        "ExecuteTime": {
          "end_time": "2020-06-08T11:11:41.567056Z",
          "start_time": "2020-06-08T11:11:41.550035Z"
        },
        "colab": {
          "base_uri": "https://localhost:8080/"
        },
        "id": "vliq8t07tyXG",
        "outputId": "c7ba4999-0128-41ba-f890-46ec4ae03849"
      },
      "outputs": [
        {
          "output_type": "execute_result",
          "data": {
            "text/plain": [
              "array([1, 3])"
            ]
          },
          "metadata": {},
          "execution_count": 35
        }
      ],
      "source": [
        "a = np.array([1, 2, 3, 4])\n",
        "mask = np.array([True, False, True, False])\n",
        "\n",
        "a[mask]"
      ]
    },
    {
      "cell_type": "markdown",
      "metadata": {
        "id": "W_TfswOztyXG"
      },
      "source": [
        "## Iterado"
      ]
    },
    {
      "cell_type": "markdown",
      "metadata": {
        "id": "oso_I6FotyXG"
      },
      "source": [
        "Podemos iterar sobre un `array` de `NumPy` de la misma manera que iteramos cualquier otra estructura de datos en `Python`."
      ]
    },
    {
      "cell_type": "code",
      "execution_count": 36,
      "metadata": {
        "ExecuteTime": {
          "end_time": "2020-06-08T11:14:24.355239Z",
          "start_time": "2020-06-08T11:14:24.337214Z"
        },
        "colab": {
          "base_uri": "https://localhost:8080/"
        },
        "id": "5ftlYlU2tyXG",
        "outputId": "6214dfbb-83f0-44f2-b6c2-81559111bbd1"
      },
      "outputs": [
        {
          "output_type": "execute_result",
          "data": {
            "text/plain": [
              "array([0, 1, 2, 3, 4])"
            ]
          },
          "metadata": {},
          "execution_count": 36
        }
      ],
      "source": [
        "a = np.arange(5)\n",
        "a"
      ]
    },
    {
      "cell_type": "code",
      "execution_count": 37,
      "metadata": {
        "ExecuteTime": {
          "end_time": "2020-06-08T11:14:29.465709Z",
          "start_time": "2020-06-08T11:14:29.454069Z"
        },
        "colab": {
          "base_uri": "https://localhost:8080/"
        },
        "id": "HUhzYPoetyXG",
        "outputId": "60e32630-08a4-4733-bca3-19992d680494"
      },
      "outputs": [
        {
          "output_type": "stream",
          "name": "stdout",
          "text": [
            "0\n",
            "1\n",
            "2\n",
            "3\n",
            "4\n"
          ]
        }
      ],
      "source": [
        "for i in a:\n",
        "    print(i)"
      ]
    },
    {
      "cell_type": "markdown",
      "metadata": {
        "id": "gQyqqZVTtyXG"
      },
      "source": [
        "Al trabajar con `arrays` multidimensionales, necesitaremos un *loop* para cada dimensión."
      ]
    },
    {
      "cell_type": "code",
      "execution_count": 38,
      "metadata": {
        "ExecuteTime": {
          "end_time": "2020-06-08T11:15:23.470727Z",
          "start_time": "2020-06-08T11:15:23.454700Z"
        },
        "colab": {
          "base_uri": "https://localhost:8080/"
        },
        "id": "RlDZnRyhtyXG",
        "outputId": "6c50952b-f4d5-4622-ed45-0ba2ed0e8137"
      },
      "outputs": [
        {
          "output_type": "execute_result",
          "data": {
            "text/plain": [
              "array([[0, 1, 2],\n",
              "       [3, 4, 5],\n",
              "       [6, 7, 8]])"
            ]
          },
          "metadata": {},
          "execution_count": 38
        }
      ],
      "source": [
        "a = np.arange(9).reshape((3,3))\n",
        "a"
      ]
    },
    {
      "cell_type": "code",
      "execution_count": 39,
      "metadata": {
        "ExecuteTime": {
          "end_time": "2020-06-08T11:15:57.760719Z",
          "start_time": "2020-06-08T11:15:57.746683Z"
        },
        "colab": {
          "base_uri": "https://localhost:8080/"
        },
        "id": "ITydPfbCtyXG",
        "outputId": "8f131905-1c1c-4bb2-d8b6-7d8b5deeb0fe"
      },
      "outputs": [
        {
          "output_type": "stream",
          "name": "stdout",
          "text": [
            "0\n",
            "1\n",
            "2\n",
            "3\n",
            "4\n",
            "5\n",
            "6\n",
            "7\n",
            "8\n"
          ]
        }
      ],
      "source": [
        "for fila in a:\n",
        "    for i in fila:\n",
        "        print(i)"
      ]
    },
    {
      "cell_type": "markdown",
      "metadata": {
        "id": "LvuDZKnutyXH"
      },
      "source": [
        "## Guardar y Cargar"
      ]
    },
    {
      "cell_type": "markdown",
      "metadata": {
        "id": "ZeEvNGCGtyXH"
      },
      "source": [
        "Podemos guardar nuestros `arrays` en archivos que más tarde podemos cargar de nuevo."
      ]
    },
    {
      "cell_type": "code",
      "execution_count": 40,
      "metadata": {
        "ExecuteTime": {
          "end_time": "2020-06-08T11:17:11.622578Z",
          "start_time": "2020-06-08T11:17:11.610082Z"
        },
        "colab": {
          "base_uri": "https://localhost:8080/"
        },
        "id": "et7CFD86tyXH",
        "outputId": "05db9e8b-09e6-4337-c291-ebc924fa27aa"
      },
      "outputs": [
        {
          "output_type": "execute_result",
          "data": {
            "text/plain": [
              "array([[0.12908538, 0.63059037, 0.40428824],\n",
              "       [0.68832159, 0.19241154, 0.5377369 ]])"
            ]
          },
          "metadata": {},
          "execution_count": 40
        }
      ],
      "source": [
        "a = np.random.rand(2,3)\n",
        "a"
      ]
    },
    {
      "cell_type": "code",
      "execution_count": 41,
      "metadata": {
        "ExecuteTime": {
          "end_time": "2020-06-08T11:17:25.842313Z",
          "start_time": "2020-06-08T11:17:25.825289Z"
        },
        "id": "3AurEMhVtyXH"
      },
      "outputs": [],
      "source": [
        "# guardar array en archivo\n",
        "\n",
        "np.save(\"mi_array\", a)"
      ]
    },
    {
      "cell_type": "markdown",
      "metadata": {
        "id": "yMTD_AuUtyXH"
      },
      "source": [
        "Por defecto un `array` se guarda con la extensión `.npy`. Para cargar de nuevo el `array`"
      ]
    },
    {
      "cell_type": "code",
      "execution_count": 42,
      "metadata": {
        "ExecuteTime": {
          "end_time": "2020-06-08T11:18:25.031883Z",
          "start_time": "2020-06-08T11:18:25.013883Z"
        },
        "colab": {
          "base_uri": "https://localhost:8080/"
        },
        "id": "3T1eQNaityXH",
        "outputId": "3a7e476b-2efb-4380-ef75-3f573f2a68c5"
      },
      "outputs": [
        {
          "output_type": "execute_result",
          "data": {
            "text/plain": [
              "array([[0.12908538, 0.63059037, 0.40428824],\n",
              "       [0.68832159, 0.19241154, 0.5377369 ]])"
            ]
          },
          "metadata": {},
          "execution_count": 42
        }
      ],
      "source": [
        "b = np.load(\"mi_array.npy\")\n",
        "b"
      ]
    },
    {
      "cell_type": "markdown",
      "metadata": {
        "id": "3CtosqIKtyXH"
      },
      "source": [
        "Las funciones que hemos visto guardan los `arrays` en formato binario para maximizar la velocidad de lectura. Sin embargo, podemos guardar nuestros `arrays` en formato texto para utilizarlos en otras aplicaciones."
      ]
    },
    {
      "cell_type": "code",
      "execution_count": 43,
      "metadata": {
        "ExecuteTime": {
          "end_time": "2020-06-08T11:20:20.504327Z",
          "start_time": "2020-06-08T11:20:20.492801Z"
        },
        "id": "jykS37uptyXH"
      },
      "outputs": [],
      "source": [
        "# guardar array en formato csv \n",
        "\n",
        "np.savetxt(\"mi_array.csv\", a, delimiter=\",\")"
      ]
    },
    {
      "cell_type": "markdown",
      "metadata": {
        "id": "y6aoXV8btyXH"
      },
      "source": [
        "También podemos guardar varios `arrays` en un solo archivo comprimido en formato `.npz`."
      ]
    },
    {
      "cell_type": "code",
      "execution_count": 44,
      "metadata": {
        "ExecuteTime": {
          "end_time": "2020-06-08T11:21:19.562505Z",
          "start_time": "2020-06-08T11:21:19.547951Z"
        },
        "colab": {
          "base_uri": "https://localhost:8080/"
        },
        "id": "JQxQweqltyXH",
        "outputId": "a5c7a5b9-a3ad-4cf1-b215-deb602bc9d56"
      },
      "outputs": [
        {
          "output_type": "execute_result",
          "data": {
            "text/plain": [
              "array([[[ 0,  1,  2,  3],\n",
              "        [ 4,  5,  6,  7],\n",
              "        [ 8,  9, 10, 11]],\n",
              "\n",
              "       [[12, 13, 14, 15],\n",
              "        [16, 17, 18, 19],\n",
              "        [20, 21, 22, 23]]], dtype=uint8)"
            ]
          },
          "metadata": {},
          "execution_count": 44
        }
      ],
      "source": [
        "b = np.arange(24, dtype=np.uint8).reshape(2, 3, 4)\n",
        "b"
      ]
    },
    {
      "cell_type": "code",
      "execution_count": 45,
      "metadata": {
        "ExecuteTime": {
          "end_time": "2020-06-08T11:21:23.376906Z",
          "start_time": "2020-06-08T11:21:23.359904Z"
        },
        "colab": {
          "base_uri": "https://localhost:8080/"
        },
        "id": "bAZ11H9rtyXH",
        "outputId": "da08c233-4980-4600-aafe-b7215fb70488"
      },
      "outputs": [
        {
          "output_type": "execute_result",
          "data": {
            "text/plain": [
              "array([[0.12908538, 0.63059037, 0.40428824],\n",
              "       [0.68832159, 0.19241154, 0.5377369 ]])"
            ]
          },
          "metadata": {},
          "execution_count": 45
        }
      ],
      "source": [
        "a"
      ]
    },
    {
      "cell_type": "code",
      "execution_count": 46,
      "metadata": {
        "ExecuteTime": {
          "end_time": "2020-06-08T11:21:47.155605Z",
          "start_time": "2020-06-08T11:21:47.144071Z"
        },
        "id": "_r5X06P_tyXI"
      },
      "outputs": [],
      "source": [
        "# guardar arrays\n",
        "\n",
        "np.savez(\"mis_arrays\", a=a, b=b)"
      ]
    },
    {
      "cell_type": "code",
      "execution_count": 47,
      "metadata": {
        "ExecuteTime": {
          "end_time": "2020-06-08T11:22:06.777013Z",
          "start_time": "2020-06-08T11:22:06.762011Z"
        },
        "colab": {
          "base_uri": "https://localhost:8080/"
        },
        "id": "2q6ip08dtyXI",
        "outputId": "d8eff249-9115-45d2-a983-1f0d418fb681"
      },
      "outputs": [
        {
          "output_type": "execute_result",
          "data": {
            "text/plain": [
              "<numpy.lib.npyio.NpzFile at 0x7f8cda025490>"
            ]
          },
          "metadata": {},
          "execution_count": 47
        }
      ],
      "source": [
        "# cargar arrays\n",
        "\n",
        "mis_arrays = np.load(\"mis_arrays.npz\")\n",
        "mis_arrays"
      ]
    },
    {
      "cell_type": "markdown",
      "metadata": {
        "id": "SJR9J5qBtyXI"
      },
      "source": [
        "Podemos extraer cada uno de los arrays mediante su nombre, al estilo `dict`."
      ]
    },
    {
      "cell_type": "code",
      "execution_count": 48,
      "metadata": {
        "ExecuteTime": {
          "end_time": "2020-06-08T11:22:42.067652Z",
          "start_time": "2020-06-08T11:22:42.046629Z"
        },
        "colab": {
          "base_uri": "https://localhost:8080/"
        },
        "id": "WyVEuWrTtyXI",
        "outputId": "550764ce-e8d1-4ed9-de88-ac3e63828132"
      },
      "outputs": [
        {
          "output_type": "execute_result",
          "data": {
            "text/plain": [
              "array([[0.12908538, 0.63059037, 0.40428824],\n",
              "       [0.68832159, 0.19241154, 0.5377369 ]])"
            ]
          },
          "metadata": {},
          "execution_count": 48
        }
      ],
      "source": [
        "mis_arrays[\"a\"]"
      ]
    },
    {
      "cell_type": "code",
      "execution_count": 49,
      "metadata": {
        "ExecuteTime": {
          "end_time": "2020-06-08T11:22:46.166380Z",
          "start_time": "2020-06-08T11:22:46.148349Z"
        },
        "colab": {
          "base_uri": "https://localhost:8080/"
        },
        "id": "oQ3Qf66DtyXI",
        "outputId": "a7e86834-432a-4e66-bbf5-4d4a5cbfe2ce"
      },
      "outputs": [
        {
          "output_type": "execute_result",
          "data": {
            "text/plain": [
              "array([[[ 0,  1,  2,  3],\n",
              "        [ 4,  5,  6,  7],\n",
              "        [ 8,  9, 10, 11]],\n",
              "\n",
              "       [[12, 13, 14, 15],\n",
              "        [16, 17, 18, 19],\n",
              "        [20, 21, 22, 23]]], dtype=uint8)"
            ]
          },
          "metadata": {},
          "execution_count": 49
        }
      ],
      "source": [
        "mis_arrays[\"b\"]"
      ]
    },
    {
      "cell_type": "markdown",
      "metadata": {
        "id": "n8rHdWTRtyXI"
      },
      "source": [
        "## Resumen"
      ]
    },
    {
      "cell_type": "markdown",
      "metadata": {
        "id": "rA_EC1z0tyXI"
      },
      "source": [
        "En este post hemos introducido `NumPy` la librería de `Python` por defecto para cálculo numérico. Hemos hablado de sus propiedades principales y del objeto básico con el que trabajamos: el `ndarray`. Esta estructura de datos es similar a la lista de `Python`, pero implementada de manera eficiente para su aplicación en cálculo numérico. Con el `ndarray`, o simplemente `array`, podemos definir y operar con valores escalares, vectores, matrices y `tensores` de muchos tipos (numéricos). En el proceso del análisis de datos utilizaremos el `array` como estructura de datos básica tanto para representar nuestros datos (texto, imágenes, vídeos, datos tabulares, etc) como los distintos modelos y algoritmos de Machine Learning y Deep Learning que hagamos. En próximos posts hablaremos en más detalle sobre algunas características importantes que hay que tener en cuenta a la hora de trabajar con `NumPy` para sacarle el máximo provecho y empezaremos a utilizarlo para asentar las bases fundamentales que nos encaminarán hacia el desarrollo e implementación de algoritmos de Inteligencia Artificial."
      ]
    }
  ],
  "metadata": {
    "kernelspec": {
      "display_name": "Python 3",
      "language": "python",
      "name": "python3"
    },
    "language_info": {
      "codemirror_mode": {
        "name": "ipython",
        "version": 3
      },
      "file_extension": ".py",
      "mimetype": "text/x-python",
      "name": "python",
      "nbconvert_exporter": "python",
      "pygments_lexer": "ipython3",
      "version": "3.7.6"
    },
    "toc": {
      "base_numbering": 1,
      "nav_menu": {},
      "number_sections": true,
      "sideBar": true,
      "skip_h1_title": false,
      "title_cell": "Table of Contents",
      "title_sidebar": "Contents",
      "toc_cell": false,
      "toc_position": {},
      "toc_section_display": true,
      "toc_window_display": false
    },
    "colab": {
      "name": "numpy.ipynb",
      "provenance": []
    }
  },
  "nbformat": 4,
  "nbformat_minor": 0
}